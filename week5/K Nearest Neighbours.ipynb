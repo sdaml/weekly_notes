{
 "cells": [
  {
   "cell_type": "code",
   "execution_count": 1,
   "metadata": {
    "collapsed": true
   },
   "outputs": [],
   "source": [
    "import numpy as np\n",
    "import pandas as pd\n",
    "\n",
    "wines = pd.read_csv('wine_data.csv')"
   ]
  },
  {
   "cell_type": "code",
   "execution_count": 2,
   "metadata": {
    "collapsed": false
   },
   "outputs": [
    {
     "data": {
      "text/html": [
       "<div style=\"max-height:1000px;max-width:1500px;overflow:auto;\">\n",
       "<table border=\"1\" class=\"dataframe\">\n",
       "  <thead>\n",
       "    <tr style=\"text-align: right;\">\n",
       "      <th></th>\n",
       "      <th>fixed acidity</th>\n",
       "      <th>volatile acidity</th>\n",
       "      <th>citric acid</th>\n",
       "      <th>residual sugar</th>\n",
       "      <th>chlorides</th>\n",
       "      <th>free sulfur dioxide</th>\n",
       "      <th>total sulfur dioxide</th>\n",
       "      <th>density</th>\n",
       "      <th>pH</th>\n",
       "      <th>sulphates</th>\n",
       "      <th>alcohol</th>\n",
       "      <th>quality</th>\n",
       "    </tr>\n",
       "  </thead>\n",
       "  <tbody>\n",
       "    <tr>\n",
       "      <th>0</th>\n",
       "      <td> 7.0</td>\n",
       "      <td> 0.27</td>\n",
       "      <td> 0.36</td>\n",
       "      <td> 20.7</td>\n",
       "      <td> 0.045</td>\n",
       "      <td> 45</td>\n",
       "      <td> 170</td>\n",
       "      <td> 1.0010</td>\n",
       "      <td> 3.00</td>\n",
       "      <td> 0.45</td>\n",
       "      <td>  8.8</td>\n",
       "      <td> 6</td>\n",
       "    </tr>\n",
       "    <tr>\n",
       "      <th>1</th>\n",
       "      <td> 6.3</td>\n",
       "      <td> 0.30</td>\n",
       "      <td> 0.34</td>\n",
       "      <td>  1.6</td>\n",
       "      <td> 0.049</td>\n",
       "      <td> 14</td>\n",
       "      <td> 132</td>\n",
       "      <td> 0.9940</td>\n",
       "      <td> 3.30</td>\n",
       "      <td> 0.49</td>\n",
       "      <td>  9.5</td>\n",
       "      <td> 6</td>\n",
       "    </tr>\n",
       "    <tr>\n",
       "      <th>2</th>\n",
       "      <td> 8.1</td>\n",
       "      <td> 0.28</td>\n",
       "      <td> 0.40</td>\n",
       "      <td>  6.9</td>\n",
       "      <td> 0.050</td>\n",
       "      <td> 30</td>\n",
       "      <td>  97</td>\n",
       "      <td> 0.9951</td>\n",
       "      <td> 3.26</td>\n",
       "      <td> 0.44</td>\n",
       "      <td> 10.1</td>\n",
       "      <td> 6</td>\n",
       "    </tr>\n",
       "    <tr>\n",
       "      <th>3</th>\n",
       "      <td> 7.2</td>\n",
       "      <td> 0.23</td>\n",
       "      <td> 0.32</td>\n",
       "      <td>  8.5</td>\n",
       "      <td> 0.058</td>\n",
       "      <td> 47</td>\n",
       "      <td> 186</td>\n",
       "      <td> 0.9956</td>\n",
       "      <td> 3.19</td>\n",
       "      <td> 0.40</td>\n",
       "      <td>  9.9</td>\n",
       "      <td> 6</td>\n",
       "    </tr>\n",
       "    <tr>\n",
       "      <th>4</th>\n",
       "      <td> 7.2</td>\n",
       "      <td> 0.23</td>\n",
       "      <td> 0.32</td>\n",
       "      <td>  8.5</td>\n",
       "      <td> 0.058</td>\n",
       "      <td> 47</td>\n",
       "      <td> 186</td>\n",
       "      <td> 0.9956</td>\n",
       "      <td> 3.19</td>\n",
       "      <td> 0.40</td>\n",
       "      <td>  9.9</td>\n",
       "      <td> 6</td>\n",
       "    </tr>\n",
       "  </tbody>\n",
       "</table>\n",
       "</div>"
      ],
      "text/plain": [
       "   fixed acidity  volatile acidity  citric acid  residual sugar  chlorides  \\\n",
       "0            7.0              0.27         0.36            20.7      0.045   \n",
       "1            6.3              0.30         0.34             1.6      0.049   \n",
       "2            8.1              0.28         0.40             6.9      0.050   \n",
       "3            7.2              0.23         0.32             8.5      0.058   \n",
       "4            7.2              0.23         0.32             8.5      0.058   \n",
       "\n",
       "   free sulfur dioxide  total sulfur dioxide  density    pH  sulphates  \\\n",
       "0                   45                   170   1.0010  3.00       0.45   \n",
       "1                   14                   132   0.9940  3.30       0.49   \n",
       "2                   30                    97   0.9951  3.26       0.44   \n",
       "3                   47                   186   0.9956  3.19       0.40   \n",
       "4                   47                   186   0.9956  3.19       0.40   \n",
       "\n",
       "   alcohol  quality  \n",
       "0      8.8        6  \n",
       "1      9.5        6  \n",
       "2     10.1        6  \n",
       "3      9.9        6  \n",
       "4      9.9        6  "
      ]
     },
     "execution_count": 2,
     "metadata": {},
     "output_type": "execute_result"
    }
   ],
   "source": [
    "wines[:5]"
   ]
  },
  {
   "cell_type": "code",
   "execution_count": 3,
   "metadata": {
    "collapsed": false
   },
   "outputs": [
    {
     "name": "stderr",
     "output_type": "stream",
     "text": [
      "C:\\Users\\Erik\\Anaconda\\lib\\site-packages\\ipykernel\\__main__.py:13: DeprecationWarning: using a non-integer number instead of an integer will result in an error in the future\n",
      "C:\\Users\\Erik\\Anaconda\\lib\\site-packages\\ipykernel\\__main__.py:14: DeprecationWarning: using a non-integer number instead of an integer will result in an error in the future\n",
      "C:\\Users\\Erik\\Anaconda\\lib\\site-packages\\ipykernel\\__main__.py:15: DeprecationWarning: using a non-integer number instead of an integer will result in an error in the future\n",
      "C:\\Users\\Erik\\Anaconda\\lib\\site-packages\\ipykernel\\__main__.py:16: DeprecationWarning: using a non-integer number instead of an integer will result in an error in the future\n"
     ]
    }
   ],
   "source": [
    "# Shuffle the data set\n",
    "wines.reindex(np.random.permutation(wines.index))\n",
    "# Choose the labesl\n",
    "feature_labels = ['alcohol', 'density', 'sulphates', 'residual sugar', 'pH', 'fixed acidity']\n",
    "# Get the features and target\n",
    "features = np.array(wines[feature_labels])\n",
    "target = np.array(wines['quality'])\n",
    "\n",
    "# Set the pivot\n",
    "pivot = len(wines) * .8\n",
    "\n",
    "# Split into test and training\n",
    "training_features = features[:pivot]\n",
    "testing_features = features[pivot:]\n",
    "training_target = target[:pivot]\n",
    "testing_target = target[pivot:]"
   ]
  },
  {
   "cell_type": "code",
   "execution_count": 4,
   "metadata": {
    "collapsed": false
   },
   "outputs": [
    {
     "data": {
      "text/plain": [
       "[<matplotlib.lines.Line2D at 0xc722b00>]"
      ]
     },
     "execution_count": 4,
     "metadata": {},
     "output_type": "execute_result"
    },
    {
     "data": {
      "image/png": "[encoded data removed]",
      "text/plain": [
       "<matplotlib.figure.Figure at 0xc550cc0>"
      ]
     },
     "metadata": {},
     "output_type": "display_data"
    }
   ],
   "source": [
    "import matplotlib.pyplot as plt\n",
    "%matplotlib inline\n",
    "\n",
    "# Look at a few features, see if theres any features that might have coralation\n",
    "plt.plot(wines['alcohol'], wines['quality'], 'o', alpha=0.03)"
   ]
  },
  {
   "cell_type": "markdown",
   "metadata": {},
   "source": [
    "Visualization of Logistic Regression from last week\n",
    "![Visualization of Logistic Regression from last week](https://i.imgur.com/V19dj67.png)"
   ]
  },
  {
   "cell_type": "markdown",
   "metadata": {},
   "source": [
    "![KNN visualized](https://upload.wikimedia.org/wikipedia/commons/e/e7/KnnClassification.svg)"
   ]
  },
  {
   "cell_type": "code",
   "execution_count": 5,
   "metadata": {
    "collapsed": true
   },
   "outputs": [],
   "source": [
    "from sklearn.neighbors import KNeighborsClassifier"
   ]
  },
  {
   "cell_type": "code",
   "execution_count": 7,
   "metadata": {
    "collapsed": true
   },
   "outputs": [],
   "source": [
    "# typical setup for ml with sklearn\n",
    "knn_model = KNeighborsClassifier(n_neighbors=3)"
   ]
  },
  {
   "cell_type": "code",
   "execution_count": 8,
   "metadata": {
    "collapsed": false
   },
   "outputs": [
    {
     "data": {
      "text/plain": [
       "KNeighborsClassifier(algorithm='auto', leaf_size=30, metric='minkowski',\n",
       "           metric_params=None, n_neighbors=3, p=2, weights='uniform')"
      ]
     },
     "execution_count": 8,
     "metadata": {},
     "output_type": "execute_result"
    }
   ],
   "source": [
    "knn_model.fit(training_features, training_target)"
   ]
  },
  {
   "cell_type": "code",
   "execution_count": 9,
   "metadata": {
    "collapsed": false
   },
   "outputs": [
    {
     "name": "stdout",
     "output_type": "stream",
     "text": [
      "Predictions for the first 5 wines:  [7 5 7 5 7]\n",
      "Probability of each score: [[ 0.          0.          0.          0.33333333  0.66666667  0.          0.        ]\n",
      " [ 0.          0.          0.33333333  0.33333333  0.          0.33333333\n",
      "   0.        ]\n",
      " [ 0.          0.          0.          0.          1.          0.          0.        ]\n",
      " [ 0.          0.          0.66666667  0.33333333  0.          0.          0.        ]\n",
      " [ 0.          0.          0.          0.33333333  0.66666667  0.          0.        ]]\n"
     ]
    }
   ],
   "source": [
    "print \"Predictions for the first 5 wines: \", knn_model.predict(testing_features)[:5]\n",
    "prediction = knn_model.predict_proba(testing_features)\n",
    "print \"Probability of each score:\", prediction[:5]"
   ]
  },
  {
   "cell_type": "code",
   "execution_count": 10,
   "metadata": {
    "collapsed": true
   },
   "outputs": [],
   "source": [
    "from sklearn.linear_model import LogisticRegression"
   ]
  },
  {
   "cell_type": "code",
   "execution_count": 11,
   "metadata": {
    "collapsed": false
   },
   "outputs": [
    {
     "data": {
      "text/plain": [
       "LogisticRegression(C=1.0, class_weight=None, dual=False, fit_intercept=True,\n",
       "          intercept_scaling=1, penalty='l2', random_state=123, tol=0.0001)"
      ]
     },
     "execution_count": 11,
     "metadata": {},
     "output_type": "execute_result"
    }
   ],
   "source": [
    "# lets also add a logistic regression model to compare\n",
    "log_model = LogisticRegression(random_state=123)\n",
    "log_model.fit(training_features, training_target)"
   ]
  },
  {
   "cell_type": "code",
   "execution_count": 12,
   "metadata": {
    "collapsed": false
   },
   "outputs": [
    {
     "name": "stdout",
     "output_type": "stream",
     "text": [
      "Predictions for the first 10 wines: [7 7 6 6 7]\n",
      "Probability of each score: [[  7.20011337e-04   4.08967148e-03   1.09315951e-02   2.79476128e-01\n",
      "    4.74431886e-01   2.27210230e-01   3.14047811e-03]\n",
      " [  1.58640974e-03   9.10006036e-03   3.15226231e-02   3.35781958e-01\n",
      "    4.50248511e-01   1.68070414e-01   3.69002396e-03]\n",
      " [  5.54194320e-03   3.80230852e-02   1.89332308e-01   4.68177039e-01\n",
      "    2.55007566e-01   4.16748741e-02   2.24318480e-03]\n",
      " [  4.30177642e-03   1.40943905e-02   2.77469978e-01   5.10679041e-01\n",
      "    1.63718293e-01   2.93813456e-02   3.55175927e-04]\n",
      " [  1.93560713e-03   1.18388997e-02   5.11993714e-02   3.80783561e-01\n",
      "    4.20506684e-01   1.30716002e-01   3.01987460e-03]]\n"
     ]
    }
   ],
   "source": [
    "print \"Predictions for the first 10 wines:\", log_model.predict(testing_features)[:5]\n",
    "prediction = log_model.predict_proba(testing_features)\n",
    "print \"Probability of each score:\", prediction[:5]"
   ]
  },
  {
   "cell_type": "code",
   "execution_count": 14,
   "metadata": {
    "collapsed": false
   },
   "outputs": [
    {
     "name": "stdout",
     "output_type": "stream",
     "text": [
      "KNN score: 0.444897959184\n",
      "Logistic score: 0.515306122449\n"
     ]
    }
   ],
   "source": [
    "print \"KNN score:\", knn_model.score(testing_features, testing_target)\n",
    "print \"Logistic score:\", log_model.score(testing_features, testing_target)"
   ]
  },
  {
   "cell_type": "code",
   "execution_count": 15,
   "metadata": {
    "collapsed": false
   },
   "outputs": [
    {
     "data": {
      "text/plain": [
       "KNeighborsClassifier(algorithm='auto', leaf_size=30, metric='minkowski',\n",
       "           metric_params=None, n_neighbors=5, p=2, weights='uniform')"
      ]
     },
     "execution_count": 15,
     "metadata": {},
     "output_type": "execute_result"
    }
   ],
   "source": [
    "# lets try 5 neighbors\n",
    "knn_model = KNeighborsClassifier(n_neighbors=5)\n",
    "knn_model.fit(training_features, training_target)"
   ]
  },
  {
   "cell_type": "code",
   "execution_count": 16,
   "metadata": {
    "collapsed": false
   },
   "outputs": [
    {
     "data": {
      "text/plain": [
       "0.48979591836734693"
      ]
     },
     "execution_count": 16,
     "metadata": {},
     "output_type": "execute_result"
    }
   ],
   "source": [
    "knn_model.score(testing_features, testing_target)"
   ]
  },
  {
   "cell_type": "code",
   "execution_count": 17,
   "metadata": {
    "collapsed": false
   },
   "outputs": [
    {
     "name": "stdout",
     "output_type": "stream",
     "text": [
      "the best score with these features was 0.533673469388 with 142 neighbors\n"
     ]
    }
   ],
   "source": [
    "# lets try to optimize the number of neighbors\n",
    "best_score = 0\n",
    "best_k = 0\n",
    "for k in range(1, 200):\n",
    "    knn_model = KNeighborsClassifier(n_neighbors=k, weights='distance')\n",
    "    knn_model.fit(training_features, training_target)\n",
    "    score = knn_model.score(testing_features, testing_target)\n",
    "    if score > best_score:\n",
    "        best_score = score\n",
    "        best_k = k\n",
    "print \"the best score with these features was %s with %s neighbors\" % (best_score, best_k)"
   ]
  },
  {
   "cell_type": "code",
   "execution_count": 27,
   "metadata": {
    "collapsed": false
   },
   "outputs": [
    {
     "data": {
      "text/plain": [
       "0.48979591836734693"
      ]
     },
     "execution_count": 27,
     "metadata": {},
     "output_type": "execute_result"
    }
   ],
   "source": [
    "# we havent dove into sklearn docs really, lets try some other settings\n",
    "# lets try 5 neighbors\n",
    "knn_model = KNeighborsClassifier(n_neighbors=5, weights='uniform', algorithm='auto', p=2)\n",
    "knn_model.fit(training_features, training_target)\n",
    "knn_model.score(testing_features, testing_target)"
   ]
  },
  {
   "cell_type": "code",
   "execution_count": null,
   "metadata": {
    "collapsed": true
   },
   "outputs": [],
   "source": [
    "# lets try the same brute force approach we took last week, but try both algs. \n",
    "# Theres file in the repo called bruteforce_optimization.py..."
   ]
  }
 ],
 "metadata": {
  "kernelspec": {
   "display_name": "Python 2",
   "language": "python",
   "name": "python2"
  },
  "language_info": {
   "codemirror_mode": {
    "name": "ipython",
    "version": 2
   },
   "file_extension": ".py",
   "mimetype": "text/x-python",
   "name": "python",
   "nbconvert_exporter": "python",
   "pygments_lexer": "ipython2",
   "version": "2.7.8"
  }
 },
 "nbformat": 4,
 "nbformat_minor": 0
}
