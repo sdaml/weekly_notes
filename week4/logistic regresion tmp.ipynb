{
 "metadata": {
  "name": "",
  "signature": "sha256:fc3af4f7a6b0a7d88ac1509d28c9632fb54a0a44c1375fa067a76fe8a8eb5c8b"
 },
 "nbformat": 3,
 "nbformat_minor": 0,
 "worksheets": []
}