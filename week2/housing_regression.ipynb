{
 "metadata": {
  "name": ""
 },
 "nbformat": 3,
 "nbformat_minor": 0,
 "worksheets": [
  {
   "cells": [
    {
     "cell_type": "markdown",
     "metadata": {},
     "source": [
      "## Reading data"
     ]
    },
    {
     "cell_type": "code",
     "collapsed": false,
     "input": [
      "import pandas as pd"
     ],
     "language": "python",
     "metadata": {},
     "outputs": [],
     "prompt_number": 14
    },
    {
     "cell_type": "code",
     "collapsed": false,
     "input": [
      "houses = pd.read_csv('housing_data.csv')  \n",
      "# creates a Pandas dataframe object, check the dataframe documentation on the pandas site\n",
      "# or run this cell with the next line uncommented\n",
      "# dir(houses)"
     ],
     "language": "python",
     "metadata": {},
     "outputs": [],
     "prompt_number": 15
    },
    {
     "cell_type": "code",
     "collapsed": false,
     "input": [
      "houses[:5]"
     ],
     "language": "python",
     "metadata": {},
     "outputs": [
      {
       "html": [
        "<div style=\"max-height:1000px;max-width:1500px;overflow:auto;\">\n",
        "<table border=\"1\" class=\"dataframe\">\n",
        "  <thead>\n",
        "    <tr style=\"text-align: right;\">\n",
        "      <th></th>\n",
        "      <th>id</th>\n",
        "      <th>date</th>\n",
        "      <th>price</th>\n",
        "      <th>bedrooms</th>\n",
        "      <th>bathrooms</th>\n",
        "      <th>sqft_living</th>\n",
        "      <th>sqft_lot</th>\n",
        "      <th>floors</th>\n",
        "      <th>waterfront</th>\n",
        "      <th>view</th>\n",
        "      <th>condition</th>\n",
        "      <th>grade</th>\n",
        "      <th>sqft_above</th>\n",
        "      <th>sqft_basement</th>\n",
        "      <th>yr_built</th>\n",
        "      <th>yr_renovated</th>\n",
        "      <th>zipcode</th>\n",
        "      <th>lat</th>\n",
        "      <th>long</th>\n",
        "      <th>sqft_living15</th>\n",
        "      <th></th>\n",
        "    </tr>\n",
        "  </thead>\n",
        "  <tbody>\n",
        "    <tr>\n",
        "      <th>0</th>\n",
        "      <td> 2487200875</td>\n",
        "      <td> 20141209T000000</td>\n",
        "      <td>  604000</td>\n",
        "      <td> 4</td>\n",
        "      <td> 3.00</td>\n",
        "      <td> 1960</td>\n",
        "      <td>   5000</td>\n",
        "      <td> 1.0</td>\n",
        "      <td> 0</td>\n",
        "      <td> 0</td>\n",
        "      <td> 5</td>\n",
        "      <td>  7</td>\n",
        "      <td> 1050</td>\n",
        "      <td>  910</td>\n",
        "      <td> 1965</td>\n",
        "      <td> 0</td>\n",
        "      <td> 98136</td>\n",
        "      <td> 47.5208</td>\n",
        "      <td>-122.393</td>\n",
        "      <td> 1360</td>\n",
        "      <td>...</td>\n",
        "    </tr>\n",
        "    <tr>\n",
        "      <th>1</th>\n",
        "      <td> 7237550310</td>\n",
        "      <td> 20140512T000000</td>\n",
        "      <td> 1230000</td>\n",
        "      <td> 4</td>\n",
        "      <td> 4.50</td>\n",
        "      <td> 5420</td>\n",
        "      <td> 101930</td>\n",
        "      <td> 1.0</td>\n",
        "      <td> 0</td>\n",
        "      <td> 0</td>\n",
        "      <td> 3</td>\n",
        "      <td> 11</td>\n",
        "      <td> 3890</td>\n",
        "      <td> 1530</td>\n",
        "      <td> 2001</td>\n",
        "      <td> 0</td>\n",
        "      <td> 98053</td>\n",
        "      <td> 47.6561</td>\n",
        "      <td>-122.005</td>\n",
        "      <td> 4760</td>\n",
        "      <td>...</td>\n",
        "    </tr>\n",
        "    <tr>\n",
        "      <th>2</th>\n",
        "      <td> 9212900260</td>\n",
        "      <td> 20140527T000000</td>\n",
        "      <td>  468000</td>\n",
        "      <td> 2</td>\n",
        "      <td> 1.00</td>\n",
        "      <td> 1160</td>\n",
        "      <td>   6000</td>\n",
        "      <td> 1.0</td>\n",
        "      <td> 0</td>\n",
        "      <td> 0</td>\n",
        "      <td> 4</td>\n",
        "      <td>  7</td>\n",
        "      <td>  860</td>\n",
        "      <td>  300</td>\n",
        "      <td> 1942</td>\n",
        "      <td> 0</td>\n",
        "      <td> 98115</td>\n",
        "      <td> 47.6900</td>\n",
        "      <td>-122.292</td>\n",
        "      <td> 1330</td>\n",
        "      <td>...</td>\n",
        "    </tr>\n",
        "    <tr>\n",
        "      <th>3</th>\n",
        "      <td>  114101516</td>\n",
        "      <td> 20140528T000000</td>\n",
        "      <td>  310000</td>\n",
        "      <td> 3</td>\n",
        "      <td> 1.00</td>\n",
        "      <td> 1430</td>\n",
        "      <td>  19901</td>\n",
        "      <td> 1.5</td>\n",
        "      <td> 0</td>\n",
        "      <td> 0</td>\n",
        "      <td> 4</td>\n",
        "      <td>  7</td>\n",
        "      <td> 1430</td>\n",
        "      <td>    0</td>\n",
        "      <td> 1927</td>\n",
        "      <td> 0</td>\n",
        "      <td> 98028</td>\n",
        "      <td> 47.7558</td>\n",
        "      <td>-122.229</td>\n",
        "      <td> 1780</td>\n",
        "      <td>...</td>\n",
        "    </tr>\n",
        "    <tr>\n",
        "      <th>4</th>\n",
        "      <td> 6054650070</td>\n",
        "      <td> 20141007T000000</td>\n",
        "      <td>  400000</td>\n",
        "      <td> 3</td>\n",
        "      <td> 1.75</td>\n",
        "      <td> 1370</td>\n",
        "      <td>   9680</td>\n",
        "      <td> 1.0</td>\n",
        "      <td> 0</td>\n",
        "      <td> 0</td>\n",
        "      <td> 4</td>\n",
        "      <td>  7</td>\n",
        "      <td> 1370</td>\n",
        "      <td>    0</td>\n",
        "      <td> 1977</td>\n",
        "      <td> 0</td>\n",
        "      <td> 98074</td>\n",
        "      <td> 47.6127</td>\n",
        "      <td>-122.045</td>\n",
        "      <td> 1370</td>\n",
        "      <td>...</td>\n",
        "    </tr>\n",
        "  </tbody>\n",
        "</table>\n",
        "<p>5 rows \u00d7 21 columns</p>\n",
        "</div>"
       ],
       "metadata": {},
       "output_type": "pyout",
       "prompt_number": 16,
       "text": [
        "           id             date    price  bedrooms  bathrooms  sqft_living  \\\n",
        "0  2487200875  20141209T000000   604000         4       3.00         1960   \n",
        "1  7237550310  20140512T000000  1230000         4       4.50         5420   \n",
        "2  9212900260  20140527T000000   468000         2       1.00         1160   \n",
        "3   114101516  20140528T000000   310000         3       1.00         1430   \n",
        "4  6054650070  20141007T000000   400000         3       1.75         1370   \n",
        "\n",
        "   sqft_lot  floors  waterfront  view  condition  grade  sqft_above  \\\n",
        "0      5000     1.0           0     0          5      7        1050   \n",
        "1    101930     1.0           0     0          3     11        3890   \n",
        "2      6000     1.0           0     0          4      7         860   \n",
        "3     19901     1.5           0     0          4      7        1430   \n",
        "4      9680     1.0           0     0          4      7        1370   \n",
        "\n",
        "   sqft_basement  yr_built  yr_renovated  zipcode      lat     long  \\\n",
        "0            910      1965             0    98136  47.5208 -122.393   \n",
        "1           1530      2001             0    98053  47.6561 -122.005   \n",
        "2            300      1942             0    98115  47.6900 -122.292   \n",
        "3              0      1927             0    98028  47.7558 -122.229   \n",
        "4              0      1977             0    98074  47.6127 -122.045   \n",
        "\n",
        "   sqft_living15      \n",
        "0           1360 ...  \n",
        "1           4760 ...  \n",
        "2           1330 ...  \n",
        "3           1780 ...  \n",
        "4           1370 ...  \n",
        "\n",
        "[5 rows x 21 columns]"
       ]
      }
     ],
     "prompt_number": 16
    },
    {
     "cell_type": "markdown",
     "metadata": {},
     "source": [
      "## Visualizing data"
     ]
    },
    {
     "cell_type": "code",
     "collapsed": false,
     "input": [
      "import matplotlib.pyplot as plt\n",
      "%matplotlib inline"
     ],
     "language": "python",
     "metadata": {},
     "outputs": [],
     "prompt_number": 17
    },
    {
     "cell_type": "code",
     "collapsed": false,
     "input": [
      "plt.scatter(houses['sqft_living'], houses['price'], alpha=0.3) # try other labels than sqft_living"
     ],
     "language": "python",
     "metadata": {},
     "outputs": [
      {
       "metadata": {},
       "output_type": "pyout",
       "prompt_number": 18,
       "text": [
        "<matplotlib.collections.PathCollection at 0x7f0809394450>"
       ]
      },
      {
       "metadata": {},
       "output_type": "display_data",
       "png": "[encoded data removed]",
       "text": [
        "<matplotlib.figure.Figure at 0x7f0809449a90>"
       ]
      }
     ],
     "prompt_number": 18
    },
    {
     "cell_type": "markdown",
     "metadata": {},
     "source": [
      "## Linear Regression the hard way, like, with actual math"
     ]
    },
    {
     "cell_type": "code",
     "collapsed": false,
     "input": [
      "import numpy as np"
     ],
     "language": "python",
     "metadata": {},
     "outputs": [],
     "prompt_number": 19
    },
    {
     "cell_type": "code",
     "collapsed": false,
     "input": [
      "# this is a basic function to do linear regression\n",
      "def basic_linear_regression(feature_input, feature_output):\n",
      "    '''both parameters should be np array (vector)'''\n",
      "    input_mean = np.mean(feature_input)\n",
      "    output_mean = np.mean(feature_output)\n",
      "    \n",
      "    product = feature_input * feature_output\n",
      "    product_mean = np.mean(product)\n",
      "    \n",
      "    input_squares = feature_input * feature_input\n",
      "    input_squares_mean = np.mean(input_squares)\n",
      "    \n",
      "    slope = (product.sum() - ((feature_input.sum() * feature_output.sum()) / feature_input.size)) / (input_squares.sum() - (feature_input.sum() * feature_input.sum()) / feature_input.size)\n",
      "    \n",
      "    intercept = (feature_output.sum() / feature_output.size) - slope * (feature_input.sum() / feature_input.size)\n",
      "    \n",
      "    return (intercept, slope)"
     ],
     "language": "python",
     "metadata": {},
     "outputs": [],
     "prompt_number": 20
    },
    {
     "cell_type": "code",
     "collapsed": false,
     "input": [
      "# now lets make a couple of vectors with a linear relation\n",
      "a = np.array([1,2,3,4,5])\n",
      "a_out = (a * 2) + 1\n",
      "print a, a_out"
     ],
     "language": "python",
     "metadata": {},
     "outputs": [
      {
       "output_type": "stream",
       "stream": "stdout",
       "text": [
        "[1 2 3 4 5] [ 3  5  7  9 11]\n"
       ]
      }
     ],
     "prompt_number": 21
    },
    {
     "cell_type": "code",
     "collapsed": false,
     "input": [
      "intercept, slope = basic_linear_regression(a, a_out) ## should return (1,2)\n",
      "print intercept, slope"
     ],
     "language": "python",
     "metadata": {},
     "outputs": [
      {
       "output_type": "stream",
       "stream": "stdout",
       "text": [
        "1 2\n"
       ]
      }
     ],
     "prompt_number": 22
    },
    {
     "cell_type": "code",
     "collapsed": false,
     "input": [
      "# now we can apply that relationship and get a line that fits through the data\n",
      "def make_prediction(x, intercept, slope):\n",
      "    return (x * slope) + intercept"
     ],
     "language": "python",
     "metadata": {},
     "outputs": [],
     "prompt_number": 23
    },
    {
     "cell_type": "code",
     "collapsed": false,
     "input": [
      "x = 6\n",
      "make_prediction(x, intercept, slope)"
     ],
     "language": "python",
     "metadata": {},
     "outputs": [
      {
       "metadata": {},
       "output_type": "pyout",
       "prompt_number": 24,
       "text": [
        "13"
       ]
      }
     ],
     "prompt_number": 24
    },
    {
     "cell_type": "code",
     "collapsed": false,
     "input": [
      "# now we can try the same thing on housing data\n",
      "# first we need to sperate our data into a training set and a testing set\n",
      "houses.reindex(np.random.permutation(houses.index))\n",
      "pivot = int(len(houses) * 0.8)\n",
      "train_set = houses[:pivot]\n",
      "test_set = houses[pivot:]\n",
      "\n",
      "feature = train_set['sqft_living']\n",
      "output = train_set['price']"
     ],
     "language": "python",
     "metadata": {},
     "outputs": [],
     "prompt_number": 25
    },
    {
     "cell_type": "code",
     "collapsed": false,
     "input": [
      "train_incept, train_slope = basic_linear_regression(feature, output)\n",
      "\n",
      "# to get a line we can graph in pyplot, totally uncessary if you dont want to visualize\n",
      "line_x = np.array([0])\n",
      "line = np.array([0])\n",
      "for x in range(1, 14000):\n",
      "    line = np.append(line, [x*train_slope + train_incept])\n",
      "    line_x = np.append(line_x, [x])"
     ],
     "language": "python",
     "metadata": {},
     "outputs": [],
     "prompt_number": 26
    },
    {
     "cell_type": "code",
     "collapsed": false,
     "input": [
      "plt.scatter(train_set['sqft_living'], train_set['price'], alpha=0.3)\n",
      "plt.plot(line_x, line)"
     ],
     "language": "python",
     "metadata": {},
     "outputs": [
      {
       "metadata": {},
       "output_type": "pyout",
       "prompt_number": 27,
       "text": [
        "[<matplotlib.lines.Line2D at 0x7f080936ec10>]"
       ]
      },
      {
       "metadata": {},
       "output_type": "display_data",
       "png": "[encoded data removed]",
       "text": [
        "<matplotlib.figure.Figure at 0x7f080940c150>"
       ]
      }
     ],
     "prompt_number": 27
    },
    {
     "cell_type": "code",
     "collapsed": false,
     "input": [
      "# Now we have to see how bad our line was, to do so we use Residual Sum of Squares (RSS)\n",
      "\n",
      "def calc_residual_sum_of_squares(input_feature, output, intercept, slope):\n",
      "    predictons = make_prediction(input_feature, intercept, slope)\n",
      "    residuals = predictons - output\n",
      "    \n",
      "    RSS = (residuals * residuals).sum()\n",
      "    return(RSS)"
     ],
     "language": "python",
     "metadata": {},
     "outputs": [],
     "prompt_number": 28
    },
    {
     "cell_type": "code",
     "collapsed": false,
     "input": [
      "calc_residual_sum_of_squares(feature, output, train_incept, train_slope)"
     ],
     "language": "python",
     "metadata": {},
     "outputs": [
      {
       "metadata": {},
       "output_type": "pyout",
       "prompt_number": 29,
       "text": [
        "691275622279778.0"
       ]
      }
     ],
     "prompt_number": 29
    }
   ],
   "metadata": {}
  }
 ]
}